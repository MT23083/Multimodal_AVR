{
 "cells": [
  {
   "cell_type": "code",
   "execution_count": 1,
   "id": "3e3c8957",
   "metadata": {},
   "outputs": [
    {
     "name": "stderr",
     "output_type": "stream",
     "text": [
      "/home/orchid/anaconda3/envs/tf_gpu/lib/python3.9/site-packages/tqdm/auto.py:21: TqdmWarning: IProgress not found. Please update jupyter and ipywidgets. See https://ipywidgets.readthedocs.io/en/stable/user_install.html\n",
      "  from .autonotebook import tqdm as notebook_tqdm\n",
      "2024-06-08 18:22:42.883078: I tensorflow/core/platform/cpu_feature_guard.cc:210] This TensorFlow binary is optimized to use available CPU instructions in performance-critical operations.\n",
      "To enable the following instructions: AVX2 FMA, in other operations, rebuild TensorFlow with the appropriate compiler flags.\n",
      "2024-06-08 18:22:43.494014: W tensorflow/compiler/tf2tensorrt/utils/py_utils.cc:38] TF-TRT Warning: Could not find TensorRT\n"
     ]
    }
   ],
   "source": [
    "import pandas as pd\n",
    "import re\n",
    "import numpy as np\n",
    "import av\n",
    "import torch\n",
    "import pickle\n",
    "from transformers import AutoImageProcessor, VideoMAEModel\n",
    "from huggingface_hub import hf_hub_download\n",
    "from huggingface_hub import hf_hub_download\n",
    "import os\n",
    "import pandas as pd\n",
    "import glob"
   ]
  },
  {
   "cell_type": "code",
   "execution_count": 2,
   "id": "82532c49",
   "metadata": {},
   "outputs": [
    {
     "name": "stderr",
     "output_type": "stream",
     "text": [
      "Could not find image processor class in the image processor config or the model config. Loading based on pattern matching with the model's feature extractor configuration. Please open a PR/issue to update `preprocessor_config.json` to use `image_processor_type` instead of `feature_extractor_type`. This warning will be removed in v4.40.\n"
     ]
    },
    {
     "name": "stdout",
     "output_type": "stream",
     "text": [
      "Video features are:  [[[-0.20150954  0.10641037  0.15078397 ...  0.16234218  0.21982941\n",
      "   -0.01695007]\n",
      "  [-0.18256672  0.25126567  0.08090174 ... -0.09435058  0.2113281\n",
      "   -0.33852363]\n",
      "  [-0.59851354 -0.02534099  0.14390539 ...  0.06186688  0.27428934\n",
      "   -0.31065947]\n",
      "  ...\n",
      "  [ 0.02293628 -0.08004195 -0.01137044 ... -0.4421075   0.1411792\n",
      "   -0.13282551]\n",
      "  [ 0.03572875 -0.6312445   0.10911979 ... -0.3974313   0.13793896\n",
      "   -0.18948828]\n",
      "  [ 0.19683483 -0.07137296  0.09209517 ... -0.10810854 -0.24036232\n",
      "   -0.50849515]]]\n",
      "Video features shape is:  (1, 1568, 768)\n"
     ]
    },
    {
     "name": "stderr",
     "output_type": "stream",
     "text": [
      "/home/orchid/anaconda3/envs/tf_gpu/lib/python3.9/site-packages/transformers/feature_extraction_utils.py:141: UserWarning: Creating a tensor from a list of numpy.ndarrays is extremely slow. Please consider converting the list to a single numpy.ndarray with numpy.array() before converting to a tensor. (Triggered internally at ../torch/csrc/utils/tensor_new.cpp:275.)\n",
      "  return torch.tensor(value)\n"
     ]
    }
   ],
   "source": [
    "torch.cuda.set_device(0)\n",
    "device = torch.device(\"cuda\" if torch.cuda.is_available() else \"cpu\")\n",
    "\n",
    "np.random.seed(0)\n",
    "def read_video_pyav(container, indices):\n",
    "    '''\n",
    "    Decode the video with PyAV decoder.\n",
    "    Args:\n",
    "        container (`av.container.input.InputContainer`): PyAV container.\n",
    "        indices (`List[int]`): List of frame indices to decode.\n",
    "    Returns:\n",
    "        result (np.ndarray): np array of decoded frames of shape (num_frames, height, width, 3).\n",
    "    '''\n",
    "    frames = []\n",
    "    container.seek(0)\n",
    "    start_index = indices[0]\n",
    "    end_index = indices[-1]\n",
    "    for i, frame in enumerate(container.decode(video=0)):\n",
    "        if i > end_index:\n",
    "            break\n",
    "        if i >= start_index and i in indices:\n",
    "            frames.append(frame)\n",
    "    return np.stack([x.to_ndarray(format=\"rgb24\") for x in frames])\n",
    "\n",
    "\n",
    "def sample_frame_indices(clip_len, frame_sample_rate, seg_len):\n",
    "    '''\n",
    "    Sample a given number of frame indices from the video.\n",
    "    Args:\n",
    "        clip_len (`int`): Total number of frames to sample.\n",
    "        frame_sample_rate (`int`): Sample every n-th frame.\n",
    "        seg_len (`int`): Maximum allowed index of sample's last frame.\n",
    "    Returns:\n",
    "        indices (`List[int]`): List of sampled frame indices\n",
    "    '''\n",
    "    converted_len = int(clip_len * frame_sample_rate)\n",
    "    end_idx = np.random.randint(converted_len, seg_len)\n",
    "    start_idx = end_idx - converted_len\n",
    "    indices = np.linspace(start_idx, end_idx, num=clip_len)\n",
    "    indices = np.clip(indices, start_idx, end_idx - 1).astype(np.int64)\n",
    "    return indices\n",
    "\n",
    "\n",
    "\n",
    "# Function to extract video features\n",
    "def extract_video_features(file_path, device):\n",
    "    # Open the video file\n",
    "    container = av.open(file_path)\n",
    "    \n",
    "    # Sample 16 frames\n",
    "    indices = sample_frame_indices(clip_len=16, frame_sample_rate=1, seg_len=container.streams.video[0].frames)\n",
    "    video = read_video_pyav(container, indices)\n",
    "\n",
    "    # Load image processor and model\n",
    "    image_processor = AutoImageProcessor.from_pretrained(\"MCG-NJU/videomae-base\")\n",
    "    model = VideoMAEModel.from_pretrained(\"MCG-NJU/videomae-base\")\n",
    "    model.to(device)\n",
    "\n",
    "    # Process the video frames\n",
    "    inputs = image_processor(list(video), return_tensors=\"pt\")\n",
    "    inputs = inputs.to(device)\n",
    "\n",
    "    with torch.no_grad():\n",
    "        outputs = model(**inputs)\n",
    "        last_hidden_states = outputs.last_hidden_state\n",
    "\n",
    "    # Extract features (mean pooling) and move to CPU\n",
    "    #features = last_hidden_states.mean(dim=1).squeeze().to(\"cpu\").numpy()\n",
    "    features = last_hidden_states.to(\"cpu\").numpy()\n",
    "    \n",
    "    return features\n",
    "\n",
    "\n",
    "\n",
    "file_path = \"/home/orchid/Documents/HumourDetection/Sarthak_Sharma/test.mp4\"\n",
    "video_features = extract_video_features(file_path, device)\n",
    "print(\"Video features are: \", video_features)\n",
    "print(\"Video features shape is: \",video_features.shape)"
   ]
  },
  {
   "cell_type": "code",
   "execution_count": 3,
   "id": "efc1de1c",
   "metadata": {},
   "outputs": [
    {
     "name": "stdout",
     "output_type": "stream",
     "text": [
      "Audio features are: [[[ 1.191034   -0.86182666  0.7861506  ... -0.4835069  -1.9844493\n",
      "   -1.1308769 ]\n",
      "  [ 1.8293048  -0.02175863  0.3962268  ... -0.848516   -1.8734795\n",
      "    0.01657532]\n",
      "  [-0.05718609 -2.1964457  -1.8482432  ... -0.9581685  -1.1962581\n",
      "    0.02739693]\n",
      "  ...\n",
      "  [ 1.5760692   0.22794232  0.5403923  ... -0.17241687 -0.93183804\n",
      "    1.5035613 ]\n",
      "  [ 1.2421161   0.81869113  0.45062426 ...  0.5453742  -1.0154021\n",
      "    1.4612745 ]\n",
      "  [ 1.1515828   0.5166324   0.36261547 ... -0.16463384 -1.1765784\n",
      "    0.85446   ]]]\n",
      "Audio shape is:  (1, 1214, 768)\n"
     ]
    }
   ],
   "source": [
    "import torchaudio\n",
    "import torchaudio.transforms\n",
    "import torch\n",
    "import numpy as np\n",
    "from transformers import VideoMAEImageProcessor, VideoMAEModel, ASTFeatureExtractor, ASTModel\n",
    "\n",
    "# Define the audio processor and model (please adjust these to your actual audio processor and model)\n",
    "audio_processor = ASTFeatureExtractor()\n",
    "audio_model = ASTModel.from_pretrained(\"MIT/ast-finetuned-audioset-10-10-0.4593\").to(device)\n",
    "\n",
    "audio_folder = \"/home/orchid/Documents/HumourDetection/data/audio/\"\n",
    "filename = \"3.wav\"\n",
    "\n",
    "\n",
    "def audio_features(folder, file):\n",
    "    audio_segment_path = os.path.join(audio_folder, filename)\n",
    "    \n",
    "    # Load stereo audio\n",
    "    stereo_audio, sample_rate = torchaudio.load(audio_segment_path)\n",
    "    \n",
    "    # Convert stereo to mono\n",
    "    mono_audio = stereo_audio.mean(dim=0)\n",
    "    \n",
    "    # Resample to 16 kHz\n",
    "    resample = torchaudio.transforms.Resample(orig_freq=sample_rate, new_freq=16000)\n",
    "    mono_audio_16khz = resample(mono_audio)\n",
    "    \n",
    "    inputs = audio_processor(mono_audio_16khz, sampling_rate=16000, return_tensors=\"pt\").to(device)\n",
    "    \n",
    "    with torch.no_grad():\n",
    "        outputs = audio_model(**inputs)\n",
    "    \n",
    "    last_hidden_states = outputs.last_hidden_state \n",
    "    \n",
    "    features_audio = last_hidden_states.cpu().numpy()\n",
    "\n",
    "    return features_audio\n",
    "\n",
    "wav_features = audio_features(audio_folder, filename)\n",
    "\n",
    "print(\"Audio features are:\", wav_features)\n",
    "print(\"Audio shape is: \", wav_features.shape)"
   ]
  },
  {
   "cell_type": "code",
   "execution_count": 4,
   "id": "dadadcdb",
   "metadata": {},
   "outputs": [],
   "source": [
    "import torchaudio\n",
    "import torchaudio.transforms\n",
    "import torch\n",
    "import numpy as np\n",
    "from transformers import VideoMAEImageProcessor, VideoMAEModel, ASTFeatureExtractor, ASTModel\n",
    "\n",
    "torch.cuda.set_device(1)\n",
    "device = torch.device(\"cuda\" if torch.cuda.is_available() else \"cpu\")\n",
    "\n",
    "# Define the audio processor and model (please adjust these to your actual audio processor and model)\n",
    "audio_processor = ASTFeatureExtractor()\n",
    "audio_model = ASTModel.from_pretrained(\"MIT/ast-finetuned-audioset-10-10-0.4593\").to(device)\n",
    "\n",
    "def wavaudio_features(file):\n",
    "    #audio_segment_path = os.path.join(audio_folder, filename)\n",
    "    \n",
    "    # Load stereo audio\n",
    "    stereo_audio, sample_rate = torchaudio.load(file)\n",
    "    \n",
    "    # Convert stereo to mono\n",
    "    mono_audio = stereo_audio.mean(dim=0)\n",
    "    \n",
    "    # Resample to 16 kHz\n",
    "    resample = torchaudio.transforms.Resample(orig_freq=sample_rate, new_freq=16000)\n",
    "    mono_audio_16khz = resample(mono_audio)\n",
    "    \n",
    "    inputs = audio_processor(mono_audio_16khz, sampling_rate=16000, return_tensors=\"pt\").to(device)\n",
    "    \n",
    "    with torch.no_grad():\n",
    "        outputs = audio_model(**inputs)\n",
    "    \n",
    "    last_hidden_states = outputs.last_hidden_state \n",
    "    \n",
    "    features_audio = last_hidden_states.cpu().numpy()\n",
    "\n",
    "    return features_audio"
   ]
  },
  {
   "cell_type": "code",
   "execution_count": 9,
   "id": "c1e77fe9-51ef-4f9a-bdc7-df9f9170c25a",
   "metadata": {},
   "outputs": [
    {
     "name": "stdout",
     "output_type": "stream",
     "text": [
      "Model loaded successfully from: D:\\ML Projects\\model_final1\n"
     ]
    }
   ],
   "source": [
    "import tensorflow as tf\n",
    "from tensorflow.keras.models import load_model\n",
    "\n",
    "saved_model_path = 'D:\\ML Projects\\model_final1'\n",
    "# Load the model\n",
    "loaded_model = tf.saved_model.load(saved_model_path)\n",
    "\n",
    "# Print confirmation message\n",
    "print(\"Model loaded successfully from:\", saved_model_path)"
   ]
  },
  {
   "cell_type": "code",
   "execution_count": 12,
   "id": "8db193d5",
   "metadata": {
    "scrolled": true
   },
   "outputs": [
    {
     "name": "stdout",
     "output_type": "stream",
     "text": [
      "MoviePy - Writing audio in D:\\ML Projects\\extracted_audio.wav\n"
     ]
    },
    {
     "name": "stderr",
     "output_type": "stream",
     "text": [
      "                                                                                                                                                           \r"
     ]
    },
    {
     "name": "stdout",
     "output_type": "stream",
     "text": [
      "MoviePy - Done.\n",
      "Audio Embedding:  [[[ 0.33431408  2.2124386  -0.8445755  ... -0.1611506   0.4968712\n",
      "   -2.0509777 ]\n",
      "  [ 1.0853901   2.1818087  -0.6193892  ...  0.07972098 -0.38214964\n",
      "   -1.3964171 ]\n",
      "  [-0.24444287 -0.8186928  -0.5712275  ... -0.97681177  0.66468704\n",
      "    0.5714718 ]\n",
      "  ...\n",
      "  [ 1.304396    1.3394122   0.03403103 ...  0.06736712 -1.2457542\n",
      "    1.2240554 ]\n",
      "  [ 0.98376095  0.83737105  0.6235462  ... -0.21965894 -0.71496016\n",
      "    0.7897501 ]\n",
      "  [ 0.36060706 -0.7909695  -0.4514681  ... -1.0221639   0.5853548\n",
      "    0.3397434 ]]]\n",
      "Audio Embedding Shape: (1, 1214, 768)\n"
     ]
    },
    {
     "name": "stderr",
     "output_type": "stream",
     "text": [
      "Could not find image processor class in the image processor config or the model config. Loading based on pattern matching with the model's feature extractor configuration. Please open a PR/issue to update `preprocessor_config.json` to use `image_processor_type` instead of `feature_extractor_type`. This warning will be removed in v4.40.\n"
     ]
    },
    {
     "name": "stdout",
     "output_type": "stream",
     "text": [
      "Video Embedding:  [[[-0.66943043 -0.02284431  0.2206536  ...  0.54728967 -0.00198382\n",
      "    0.00403971]\n",
      "  [-0.5225351   0.03984598  0.2148189  ...  0.22420979  0.01187528\n",
      "   -0.184603  ]\n",
      "  [-0.01512496  0.17177533  0.13948405 ...  0.01360554 -0.22231364\n",
      "   -0.13712738]\n",
      "  ...\n",
      "  [-0.48227045  0.09424184  0.06855292 ...  0.08318885 -0.07362238\n",
      "   -0.13536066]\n",
      "  [ 0.006126    0.00677874 -0.000942   ...  0.19703971 -0.21764843\n",
      "   -0.15255035]\n",
      "  [-0.01635026  0.01026905  0.10821235 ...  0.13031225 -0.2826406\n",
      "   -0.40221152]]]\n",
      "Video Embedding Shape:  (1, 1568, 768)\n",
      "MoviePy - Writing audio in D:\\ML Projects\\extracted_audio.wav\n"
     ]
    },
    {
     "name": "stderr",
     "output_type": "stream",
     "text": [
      "                                                                                                                                                           \r"
     ]
    },
    {
     "name": "stdout",
     "output_type": "stream",
     "text": [
      "MoviePy - Done.\n",
      "Audio Embedding:  [[[ 0.43375537  1.1094348  -1.8315333  ...  0.8400884  -1.2965431\n",
      "   -1.429176  ]\n",
      "  [ 0.43521598  1.4103078  -1.7987262  ...  0.9318343  -1.924275\n",
      "   -0.91314214]\n",
      "  [-0.59659827  0.03657202 -0.8152971  ... -1.476133    0.64240545\n",
      "    1.3830171 ]\n",
      "  ...\n",
      "  [ 1.8831717   0.77996874 -0.623962   ... -0.21777035 -0.5765724\n",
      "    0.9970775 ]\n",
      "  [ 1.2795733   1.9762459  -0.17476776 ... -0.1722551   0.2571807\n",
      "    1.107749  ]\n",
      "  [ 1.2426406   0.29543126  0.23084196 ...  0.16540356 -1.4532506\n",
      "    0.52000946]]]\n",
      "Audio Embedding Shape: (1, 1214, 768)\n"
     ]
    },
    {
     "name": "stderr",
     "output_type": "stream",
     "text": [
      "Could not find image processor class in the image processor config or the model config. Loading based on pattern matching with the model's feature extractor configuration. Please open a PR/issue to update `preprocessor_config.json` to use `image_processor_type` instead of `feature_extractor_type`. This warning will be removed in v4.40.\n"
     ]
    },
    {
     "name": "stdout",
     "output_type": "stream",
     "text": [
      "Video Embedding:  [[[-0.67496526 -0.16689168  0.00309786 ...  0.4044849   0.28381547\n",
      "   -0.09440754]\n",
      "  [-0.7499716   0.0297902   0.00213556 ...  0.1278393   0.05692562\n",
      "   -0.195641  ]\n",
      "  [-0.7535519   0.1092779   0.04281272 ...  0.0116147  -0.00442696\n",
      "   -0.13022965]\n",
      "  ...\n",
      "  [ 0.19372335  0.05082093  0.06332798 ...  0.23009314  0.0419806\n",
      "    0.027273  ]\n",
      "  [ 0.15551293  0.13090776 -0.09445952 ...  0.20451201  0.0300258\n",
      "    0.06376215]\n",
      "  [ 0.13266358  0.32629788 -0.03765151 ... -0.0405491   0.03523505\n",
      "   -0.18815447]]]\n",
      "Video Embedding Shape:  (1, 1568, 768)\n",
      "MoviePy - Writing audio in D:\\ML Projects\\extracted_audio.wav\n"
     ]
    },
    {
     "name": "stderr",
     "output_type": "stream",
     "text": [
      "                                                                                                                                                           \r"
     ]
    },
    {
     "name": "stdout",
     "output_type": "stream",
     "text": [
      "MoviePy - Done.\n",
      "Audio Embedding:  [[[ 0.7231356   0.4675637  -0.3189858  ...  0.7056228  -0.94219774\n",
      "   -1.5716035 ]\n",
      "  [ 1.1004004   0.77942383 -0.11911581 ...  0.4512744  -2.1276817\n",
      "   -0.87229747]\n",
      "  [ 0.4311535   1.6701133   1.9795607  ... -0.21100384 -0.13896194\n",
      "    0.2295305 ]\n",
      "  ...\n",
      "  [-0.11609559 -1.0771892  -1.2179308  ... -1.1950248  -0.74611115\n",
      "   -0.12764265]\n",
      "  [-0.00771218 -1.0696166  -1.1358908  ... -0.8392036  -1.4581381\n",
      "    1.3037322 ]\n",
      "  [ 1.1005284  -0.09609251  1.7884499  ...  0.9000661  -2.5379517\n",
      "    0.7195595 ]]]\n",
      "Audio Embedding Shape: (1, 1214, 768)\n"
     ]
    },
    {
     "name": "stderr",
     "output_type": "stream",
     "text": [
      "Could not find image processor class in the image processor config or the model config. Loading based on pattern matching with the model's feature extractor configuration. Please open a PR/issue to update `preprocessor_config.json` to use `image_processor_type` instead of `feature_extractor_type`. This warning will be removed in v4.40.\n"
     ]
    },
    {
     "name": "stdout",
     "output_type": "stream",
     "text": [
      "Video Embedding:  [[[-0.12019121  0.0041648  -0.03491041 ...  0.40883902  0.35373008\n",
      "    0.40590763]\n",
      "  [-0.05360812  0.20165147  0.2502199  ...  0.06857957 -0.01904523\n",
      "   -0.02741919]\n",
      "  [ 0.20547393  0.49038887  0.16338937 ... -0.22597195 -0.08427478\n",
      "    0.13647176]\n",
      "  ...\n",
      "  [-0.11632685 -0.10238498 -0.02628828 ...  0.12780415  0.12359007\n",
      "    0.22722557]\n",
      "  [ 0.68430316 -0.13412233  0.03607459 ...  0.0439015   0.21665794\n",
      "    0.21818297]\n",
      "  [ 0.72314614  0.26221535 -0.11582197 ...  0.0388022   0.02615647\n",
      "   -0.25826308]]]\n",
      "Video Embedding Shape:  (1, 1568, 768)\n",
      "MoviePy - Writing audio in D:\\ML Projects\\extracted_audio.wav\n"
     ]
    },
    {
     "name": "stderr",
     "output_type": "stream",
     "text": [
      "                                                                                                                                                           \r"
     ]
    },
    {
     "name": "stdout",
     "output_type": "stream",
     "text": [
      "MoviePy - Done.\n",
      "Audio Embedding:  [[[-1.3324528   1.1655314  -0.28824782 ... -0.08973926  0.82476145\n",
      "   -0.93810904]\n",
      "  [-0.9297563   1.9250593  -0.11991393 ...  0.1388923   0.23841603\n",
      "   -0.576528  ]\n",
      "  [ 0.27829707 -0.15524784  1.0290937  ... -0.3313816  -0.10484274\n",
      "    0.4364292 ]\n",
      "  ...\n",
      "  [ 1.3748814   1.4206499   0.35553455 ... -0.5000563  -1.6028473\n",
      "    1.4006206 ]\n",
      "  [ 0.35511887  0.37037137  1.2122477  ...  0.18942721 -0.7770635\n",
      "    1.4567813 ]\n",
      "  [ 1.0735779   0.5518291  -0.53185767 ... -0.65818584 -0.62269855\n",
      "    0.99656826]]]\n",
      "Audio Embedding Shape: (1, 1214, 768)\n"
     ]
    },
    {
     "name": "stderr",
     "output_type": "stream",
     "text": [
      "Could not find image processor class in the image processor config or the model config. Loading based on pattern matching with the model's feature extractor configuration. Please open a PR/issue to update `preprocessor_config.json` to use `image_processor_type` instead of `feature_extractor_type`. This warning will be removed in v4.40.\n"
     ]
    },
    {
     "name": "stdout",
     "output_type": "stream",
     "text": [
      "Video Embedding:  [[[-0.54314846 -0.09826795 -0.47290543 ...  0.05785008 -0.0998186\n",
      "    0.2699861 ]\n",
      "  [-0.3361115   0.27622333 -0.14190045 ... -0.07701316 -0.01466552\n",
      "   -0.24541765]\n",
      "  [ 0.05209306  0.00776547 -0.0980038  ...  0.05137968 -0.09490983\n",
      "   -0.21581034]\n",
      "  ...\n",
      "  [-0.83793694 -0.3017175  -0.05859634 ...  0.24116737  0.18844622\n",
      "    0.20471917]\n",
      "  [ 0.26415756 -0.16087165 -0.00152611 ...  0.34738648  0.05282116\n",
      "    0.23134792]\n",
      "  [-0.01549175 -0.14875428  0.18104543 ...  0.10248588 -0.07668442\n",
      "   -0.20095997]]]\n",
      "Video Embedding Shape:  (1, 1568, 768)\n",
      "MoviePy - Writing audio in D:\\ML Projects\\extracted_audio.wav\n"
     ]
    },
    {
     "name": "stderr",
     "output_type": "stream",
     "text": [
      "                                                                                                                                                           \r"
     ]
    },
    {
     "name": "stdout",
     "output_type": "stream",
     "text": [
      "MoviePy - Done.\n"
     ]
    },
    {
     "name": "stderr",
     "output_type": "stream",
     "text": [
      "Could not find image processor class in the image processor config or the model config. Loading based on pattern matching with the model's feature extractor configuration. Please open a PR/issue to update `preprocessor_config.json` to use `image_processor_type` instead of `feature_extractor_type`. This warning will be removed in v4.40.\n"
     ]
    },
    {
     "name": "stdout",
     "output_type": "stream",
     "text": [
      "Audio Embedding:  [[[-0.09042823  1.6296769  -1.5634011  ... -0.04187195  0.241395\n",
      "   -0.6648562 ]\n",
      "  [-0.3407188   2.2691796  -1.709471   ... -0.07789677 -0.36976093\n",
      "   -0.19494718]\n",
      "  [ 0.01042116  0.07627921  0.0836433  ... -0.5428678   0.01679088\n",
      "    0.85653436]\n",
      "  ...\n",
      "  [ 0.9220491  -0.35188484 -1.7485733  ... -0.5296286   0.5067303\n",
      "    0.3414288 ]\n",
      "  [ 0.9140345   0.47358218  2.747752   ... -1.1986322   0.555704\n",
      "    0.85304123]\n",
      "  [ 1.3330257   0.18236159  2.050901   ...  0.08616997  0.28406295\n",
      "    1.3713312 ]]]\n",
      "Audio Embedding Shape: (1, 1214, 768)\n",
      "Video Embedding:  [[[-0.62778896  0.02069545 -0.22098424 ...  0.3752849   0.24784487\n",
      "    0.10977992]\n",
      "  [-0.5828977   0.19501126 -0.27674317 ...  0.02645759 -0.0153753\n",
      "    0.03249222]\n",
      "  [-0.765681    0.29632366 -0.10802846 ... -0.09992962  0.04624781\n",
      "   -0.24104218]\n",
      "  ...\n",
      "  [ 0.5879767  -0.12689047  0.10578259 ...  0.21341315 -0.17854191\n",
      "    0.04225305]\n",
      "  [ 0.5917684  -0.01998276  0.03494285 ...  0.15587665 -0.12679625\n",
      "   -0.05208637]\n",
      "  [ 0.63134587 -0.00865755 -0.04304996 ...  0.04238055 -0.2671185\n",
      "   -0.07194105]]]\n",
      "Video Embedding Shape:  (1, 1568, 768)\n",
      "MoviePy - Writing audio in D:\\ML Projects\\extracted_audio.wav\n"
     ]
    },
    {
     "name": "stderr",
     "output_type": "stream",
     "text": [
      "                                                                                                                                                           "
     ]
    },
    {
     "name": "stdout",
     "output_type": "stream",
     "text": [
      "MoviePy - Done.\n"
     ]
    },
    {
     "name": "stderr",
     "output_type": "stream",
     "text": [
      "\r"
     ]
    },
    {
     "name": "stdout",
     "output_type": "stream",
     "text": [
      "Audio Embedding:  [[[ 0.51963645 -0.06831073  0.61550146 ...  0.44858465  0.37474963\n",
      "   -1.3076159 ]\n",
      "  [ 0.17732833  0.67598695  0.25307125 ...  0.1925904   0.298974\n",
      "   -0.41973245]\n",
      "  [ 0.0512748   1.1555      0.4548832  ... -0.77409995 -0.7904257\n",
      "    0.8067534 ]\n",
      "  ...\n",
      "  [ 0.09303991  1.543814   -1.5416143  ... -1.37839    -0.5502091\n",
      "    0.13693199]\n",
      "  [ 0.7928638   1.5620074  -0.37217936 ... -0.8664568  -0.34850007\n",
      "    0.44972825]\n",
      "  [ 0.7975668   1.1442783  -0.24510118 ... -0.5911182  -0.31403393\n",
      "    0.56821924]]]\n",
      "Audio Embedding Shape: (1, 1214, 768)\n"
     ]
    },
    {
     "name": "stderr",
     "output_type": "stream",
     "text": [
      "Could not find image processor class in the image processor config or the model config. Loading based on pattern matching with the model's feature extractor configuration. Please open a PR/issue to update `preprocessor_config.json` to use `image_processor_type` instead of `feature_extractor_type`. This warning will be removed in v4.40.\n"
     ]
    },
    {
     "name": "stdout",
     "output_type": "stream",
     "text": [
      "Video Embedding:  [[[-0.31262287 -0.45195493 -0.02496372 ...  0.03097585  0.20185873\n",
      "   -0.2053792 ]\n",
      "  [-0.06311094  0.06813607  0.20694244 ... -0.11097891  0.14002968\n",
      "   -0.43248796]\n",
      "  [-0.05798149  0.00097359  0.20597877 ... -0.08688302  0.18378173\n",
      "   -0.2734523 ]\n",
      "  ...\n",
      "  [ 0.63605857 -0.06043262  0.16946714 ...  0.25653204 -0.08498697\n",
      "    0.33767432]\n",
      "  [ 0.6123421   0.11106925  0.01885033 ...  0.23752002  0.02961503\n",
      "    0.21729204]\n",
      "  [ 0.56135637  0.28217444  0.2773409  ...  0.21940848 -0.30764902\n",
      "    0.0231776 ]]]\n",
      "Video Embedding Shape:  (1, 1568, 768)\n"
     ]
    },
    {
     "name": "stderr",
     "output_type": "stream",
     "text": [
      "Exception in Tkinter callback\n",
      "Traceback (most recent call last):\n",
      "  File \"C:\\Users\\shubh\\miniconda3\\envs\\tf\\lib\\tkinter\\__init__.py\", line 1921, in __call__\n",
      "    return self.func(*args)\n",
      "TypeError: plot_predictions_tk() missing 1 required positional argument: 'root'\n"
     ]
    },
    {
     "name": "stdout",
     "output_type": "stream",
     "text": [
      "MoviePy - Writing audio in D:\\ML Projects\\extracted_audio.wav\n"
     ]
    },
    {
     "name": "stderr",
     "output_type": "stream",
     "text": [
      "                                                                                                                                                           "
     ]
    },
    {
     "name": "stdout",
     "output_type": "stream",
     "text": [
      "MoviePy - Done.\n"
     ]
    },
    {
     "name": "stderr",
     "output_type": "stream",
     "text": [
      "\r"
     ]
    },
    {
     "name": "stdout",
     "output_type": "stream",
     "text": [
      "Audio Embedding:  [[[ 0.8283428   1.2340101   0.478984   ...  1.3370503  -0.92875576\n",
      "   -0.77745503]\n",
      "  [ 1.014457    1.8491896   0.3085185  ...  0.8371651  -1.4969739\n",
      "   -0.24618477]\n",
      "  [ 0.5598066  -0.38261837  0.5524251  ... -1.6779109   0.6119981\n",
      "    0.7367945 ]\n",
      "  ...\n",
      "  [ 1.6637697   0.6543518   2.1383042  ...  0.12936145  0.44285128\n",
      "    0.7802874 ]\n",
      "  [ 0.74362564 -0.29094172 -0.05211712 ... -1.0578507  -0.6308877\n",
      "    0.5330647 ]\n",
      "  [ 0.429554   -0.22754595  0.6415605  ... -0.5606091  -0.16750638\n",
      "    0.8956686 ]]]\n",
      "Audio Embedding Shape: (1, 1214, 768)\n"
     ]
    },
    {
     "name": "stderr",
     "output_type": "stream",
     "text": [
      "Could not find image processor class in the image processor config or the model config. Loading based on pattern matching with the model's feature extractor configuration. Please open a PR/issue to update `preprocessor_config.json` to use `image_processor_type` instead of `feature_extractor_type`. This warning will be removed in v4.40.\n"
     ]
    },
    {
     "name": "stdout",
     "output_type": "stream",
     "text": [
      "Video Embedding:  [[[-0.45659506 -0.45448315 -0.05860524 ...  0.5179793   0.36364707\n",
      "    0.00585183]\n",
      "  [-0.41078967 -0.41530883 -0.22358131 ...  0.11514712  0.2662495\n",
      "   -0.02796239]\n",
      "  [-0.13971402  0.10929675 -0.38355595 ...  0.138923    0.00971909\n",
      "   -0.17219672]\n",
      "  ...\n",
      "  [ 0.09076955 -0.11536928 -0.00585653 ...  0.04258002 -0.27193618\n",
      "    0.04216691]\n",
      "  [ 0.3594162  -0.15465268 -0.00954327 ...  0.09763451 -0.12087359\n",
      "   -0.03378512]\n",
      "  [ 1.0272753   0.5406746   0.28610316 ... -0.35090193 -0.5831457\n",
      "   -0.95276874]]]\n",
      "Video Embedding Shape:  (1, 1568, 768)\n"
     ]
    },
    {
     "name": "stderr",
     "output_type": "stream",
     "text": [
      "Exception in Tkinter callback\n",
      "Traceback (most recent call last):\n",
      "  File \"C:\\Users\\shubh\\miniconda3\\envs\\tf\\lib\\tkinter\\__init__.py\", line 1921, in __call__\n",
      "    return self.func(*args)\n",
      "TypeError: plot_predictions_tk() missing 1 required positional argument: 'root'\n"
     ]
    },
    {
     "name": "stdout",
     "output_type": "stream",
     "text": [
      "MoviePy - Writing audio in D:\\ML Projects\\extracted_audio.wav\n"
     ]
    },
    {
     "name": "stderr",
     "output_type": "stream",
     "text": [
      "                                                                                                                                                           \r"
     ]
    },
    {
     "name": "stdout",
     "output_type": "stream",
     "text": [
      "MoviePy - Done.\n",
      "Audio Embedding:  [[[-2.1785933e-03  1.0654600e+00  1.1692871e+00 ...  2.7711296e-01\n",
      "    4.8291564e-01 -2.3080688e+00]\n",
      "  [ 2.1744436e-01  1.3365757e+00  7.1158367e-01 ...  9.2530269e-03\n",
      "    1.8374258e-01 -1.5062701e+00]\n",
      "  [-6.6433656e-01  5.7326269e-01  3.6426270e-01 ... -7.1551311e-01\n",
      "   -6.5043610e-01  7.2344732e-01]\n",
      "  ...\n",
      "  [ 9.4211382e-01 -8.5571194e-01  1.8801355e-01 ... -1.1940266e+00\n",
      "    1.2689247e+00  4.2703792e-01]\n",
      "  [ 6.6359746e-01  6.1703372e-01  1.4575386e+00 ... -1.7103966e-01\n",
      "   -3.9237621e-01  9.7264707e-01]\n",
      "  [ 9.0386528e-01  8.7317199e-01  1.9562500e+00 ... -1.5082498e-01\n",
      "    2.6676571e-01  9.7861707e-01]]]\n",
      "Audio Embedding Shape: (1, 1214, 768)\n"
     ]
    },
    {
     "name": "stderr",
     "output_type": "stream",
     "text": [
      "Could not find image processor class in the image processor config or the model config. Loading based on pattern matching with the model's feature extractor configuration. Please open a PR/issue to update `preprocessor_config.json` to use `image_processor_type` instead of `feature_extractor_type`. This warning will be removed in v4.40.\n"
     ]
    },
    {
     "name": "stdout",
     "output_type": "stream",
     "text": [
      "Video Embedding:  [[[-0.69857186 -0.3885266  -0.15758483 ...  0.24384882  0.05816049\n",
      "    0.11547294]\n",
      "  [-0.0383944   0.0366013  -0.00502764 ...  0.17744522  0.10166197\n",
      "   -0.35716125]\n",
      "  [-0.942389    0.12904449 -0.13504665 ...  0.12833802 -0.08482672\n",
      "   -0.2529029 ]\n",
      "  ...\n",
      "  [ 0.7319758   0.09906015  0.01001309 ...  0.34727275 -0.42190292\n",
      "   -0.20176399]\n",
      "  [ 1.1655288  -0.06083069 -0.20624468 ...  0.33973524 -0.41073143\n",
      "   -0.06414154]\n",
      "  [ 0.7325869   0.27875718 -0.13744923 ...  0.0692234  -0.31167108\n",
      "   -0.40902567]]]\n",
      "Video Embedding Shape:  (1, 1568, 768)\n"
     ]
    },
    {
     "name": "stderr",
     "output_type": "stream",
     "text": [
      "Exception in Tkinter callback\n",
      "Traceback (most recent call last):\n",
      "  File \"C:\\Users\\shubh\\miniconda3\\envs\\tf\\lib\\tkinter\\__init__.py\", line 1921, in __call__\n",
      "    return self.func(*args)\n",
      "TypeError: plot_predictions_tk() missing 1 required positional argument: 'root'\n"
     ]
    },
    {
     "name": "stdout",
     "output_type": "stream",
     "text": [
      "MoviePy - Writing audio in D:\\ML Projects\\extracted_audio.wav\n"
     ]
    },
    {
     "name": "stderr",
     "output_type": "stream",
     "text": [
      "                                                                                                                                                           \r"
     ]
    },
    {
     "name": "stdout",
     "output_type": "stream",
     "text": [
      "MoviePy - Done.\n",
      "Audio Embedding:  [[[-1.1784879   0.7121881  -1.9011649  ...  0.7168307  -1.8260511\n",
      "   -0.42887527]\n",
      "  [-1.0577143   1.2614298  -2.4182355  ...  0.7594177  -2.391131\n",
      "    0.1354702 ]\n",
      "  [ 0.61856383 -1.4555919  -1.5531062  ... -0.97047293 -0.4723994\n",
      "   -0.39186096]\n",
      "  ...\n",
      "  [ 1.1975704  -0.1667281  -0.75772077 ... -0.3555537   2.0861316\n",
      "    0.6747218 ]\n",
      "  [ 1.0491338   0.26805353 -0.5005257  ... -0.21060778  1.832572\n",
      "    0.82578224]\n",
      "  [ 1.0622814   0.22051784 -0.732831   ...  0.03298722  1.5023794\n",
      "    0.9658988 ]]]\n",
      "Audio Embedding Shape: (1, 1214, 768)\n"
     ]
    },
    {
     "name": "stderr",
     "output_type": "stream",
     "text": [
      "Could not find image processor class in the image processor config or the model config. Loading based on pattern matching with the model's feature extractor configuration. Please open a PR/issue to update `preprocessor_config.json` to use `image_processor_type` instead of `feature_extractor_type`. This warning will be removed in v4.40.\n"
     ]
    },
    {
     "name": "stdout",
     "output_type": "stream",
     "text": [
      "Video Embedding:  [[[-0.14904876 -0.31402773 -0.21729654 ...  0.7895233   0.15752615\n",
      "   -0.10248458]\n",
      "  [ 0.01915265 -0.23644729 -0.06517522 ...  0.34737304 -0.18090048\n",
      "   -0.09282347]\n",
      "  [-0.09194148 -0.09566943 -0.08113295 ...  0.15058891 -0.13355574\n",
      "   -0.09513716]\n",
      "  ...\n",
      "  [ 0.4038068  -0.12427408  0.20665494 ...  0.08273257  0.00579638\n",
      "   -0.04487776]\n",
      "  [ 0.5966047   0.00726275  0.22770366 ...  0.15403321  0.13648506\n",
      "   -0.02714076]\n",
      "  [ 0.10267326 -0.16474676  0.17587733 ...  0.02445242  0.04023141\n",
      "   -0.30873606]]]\n",
      "Video Embedding Shape:  (1, 1568, 768)\n"
     ]
    },
    {
     "name": "stderr",
     "output_type": "stream",
     "text": [
      "Exception in Tkinter callback\n",
      "Traceback (most recent call last):\n",
      "  File \"C:\\Users\\shubh\\miniconda3\\envs\\tf\\lib\\tkinter\\__init__.py\", line 1921, in __call__\n",
      "    return self.func(*args)\n",
      "TypeError: plot_predictions_tk() missing 1 required positional argument: 'root'\n"
     ]
    },
    {
     "data": {
      "image/png": "[encoded data removed]",
      "text/plain": [
       "<Figure size 800x331 with 1 Axes>"
      ]
     },
     "metadata": {},
     "output_type": "display_data"
    },
    {
     "data": {
      "image/png": "[encoded data removed]",
      "text/plain": [
       "<Figure size 800x241 with 1 Axes>"
      ]
     },
     "metadata": {},
     "output_type": "display_data"
    },
    {
     "data": {
      "image/png": "[encoded data removed]",
      "text/plain": [
       "<Figure size 800x331 with 1 Axes>"
      ]
     },
     "metadata": {},
     "output_type": "display_data"
    },
    {
     "data": {
      "image/png": "[encoded data removed]",
      "text/plain": [
       "<Figure size 800x331 with 1 Axes>"
      ]
     },
     "metadata": {},
     "output_type": "display_data"
    },
    {
     "data": {
      "image/png": "[encoded data removed]",
      "text/plain": [
       "<Figure size 800x327 with 1 Axes>"
      ]
     },
     "metadata": {},
     "output_type": "display_data"
    },
    {
     "data": {
      "image/png": "[encoded data removed]",
      "text/plain": [
       "<Figure size 800x327 with 1 Axes>"
      ]
     },
     "metadata": {},
     "output_type": "display_data"
    },
    {
     "data": {
      "image/png": "[encoded data removed]",
      "text/plain": [
       "<Figure size 800x327 with 1 Axes>"
      ]
     },
     "metadata": {},
     "output_type": "display_data"
    },
    {
     "data": {
      "image/png": "[encoded data removed]",
      "text/plain": [
       "<Figure size 800x327 with 1 Axes>"
      ]
     },
     "metadata": {},
     "output_type": "display_data"
    },
    {
     "data": {
      "image/png": "[encoded data removed]",
      "text/plain": [
       "<Figure size 800x327 with 1 Axes>"
      ]
     },
     "metadata": {},
     "output_type": "display_data"
    }
   ],
   "source": [
    "import tkinter as tk\n",
    "from tkinter import filedialog\n",
    "import numpy as np\n",
    "import matplotlib.pyplot as plt\n",
    "from matplotlib.backends.backend_tkagg import FigureCanvasTkAgg\n",
    "import torch\n",
    "import tensorflow as tf\n",
    "import torchaudio\n",
    "from moviepy.editor import VideoFileClip\n",
    "from PIL import Image, ImageTk\n",
    "from tkinter import font\n",
    "from transformers import VideoMAEImageProcessor, VideoMAEModel, ASTFeatureExtractor, ASTModel, AutoImageProcessor\n",
    "import av\n",
    "import pandas as pd\n",
    "import re\n",
    "import numpy as np\n",
    "import pickle\n",
    "import os\n",
    "import pandas as pd\n",
    "import glob\n",
    "\n",
    "global_predictions = None\n",
    "\n",
    "torch.cuda.set_device(0)\n",
    "\n",
    "if torch.cuda.is_available():\n",
    "    device = torch.device(\"cuda:0\")\n",
    "else:\n",
    "    device = torch.device(\"cpu\")\n",
    "\n",
    "# Define the audio processor and model (please adjust these to your actual audio processor and model)\n",
    "audio_processor = ASTFeatureExtractor()\n",
    "audio_model = ASTModel.from_pretrained(\"MIT/ast-finetuned-audioset-10-10-0.4593\").to(device)\n",
    "\n",
    "# Function to get embeddings from audio files\n",
    "def get_embeddings_audio(file):\n",
    "    # Load stereo audio\n",
    "    stereo_audio, sample_rate = torchaudio.load(file)\n",
    "    \n",
    "    # Convert stereo to mono\n",
    "    mono_audio = stereo_audio.mean(dim=0)\n",
    "    \n",
    "    # Resample to 16 kHz\n",
    "    resample = torchaudio.transforms.Resample(orig_freq=sample_rate, new_freq=16000)\n",
    "    mono_audio_16khz = resample(mono_audio)\n",
    "\n",
    "    # Load the audio processor\n",
    "    audio_processor = ASTFeatureExtractor()\n",
    "    \n",
    "    # Move the audio processor to the desired device\n",
    "    #audio_processor = audio_processor.to(device)\n",
    "    \n",
    "    inputs = audio_processor(mono_audio_16khz, sampling_rate=16000, return_tensors=\"pt\").to(device)\n",
    "    inputs = inputs.to(device)\n",
    "    \n",
    "    with torch.no_grad():\n",
    "        outputs = audio_model(**inputs)\n",
    "    \n",
    "    last_hidden_states = outputs.last_hidden_state \n",
    "    \n",
    "    features_audio = last_hidden_states.cpu().numpy()\n",
    "    \n",
    "    return features_audio\n",
    "\n",
    "def read_video_pyav(container, indices):\n",
    "    '''\n",
    "    Decode the video with PyAV decoder.\n",
    "    Args:\n",
    "        container (`av.container.input.InputContainer`): PyAV container.\n",
    "        indices (`List[int]`): List of frame indices to decode.\n",
    "    Returns:\n",
    "        result (np.ndarray): np array of decoded frames of shape (num_frames, height, width, 3).\n",
    "    '''\n",
    "    frames = []\n",
    "    container.seek(0)\n",
    "    start_index = indices[0]\n",
    "    end_index = indices[-1]\n",
    "    for i, frame in enumerate(container.decode(video=0)):\n",
    "        if i > end_index:\n",
    "            break\n",
    "        if i >= start_index and i in indices:\n",
    "            frames.append(frame)\n",
    "    return np.stack([x.to_ndarray(format=\"rgb24\") for x in frames])\n",
    "\n",
    "\n",
    "def sample_frame_indices(clip_len, frame_sample_rate, seg_len):\n",
    "    '''\n",
    "    Sample a given number of frame indices from the video.\n",
    "    Args:\n",
    "        clip_len (`int`): Total number of frames to sample.\n",
    "        frame_sample_rate (`int`): Sample every n-th frame.\n",
    "        seg_len (`int`): Maximum allowed index of sample's last frame.\n",
    "    Returns:\n",
    "        indices (`List[int]`): List of sampled frame indices\n",
    "    '''\n",
    "    converted_len = int(clip_len * frame_sample_rate)\n",
    "    end_idx = np.random.randint(converted_len, seg_len)\n",
    "    start_idx = end_idx - converted_len\n",
    "    indices = np.linspace(start_idx, end_idx, num=clip_len)\n",
    "    indices = np.clip(indices, start_idx, end_idx - 1).astype(np.int64)\n",
    "    return indices\n",
    "\n",
    "# Function to get embeddings from video files\n",
    "def get_embeddings_video(file, device):\n",
    "    \n",
    "    container = av.open(file)\n",
    "    \n",
    "    # Sample 16 frames\n",
    "    indices = sample_frame_indices(clip_len=16, frame_sample_rate=1, seg_len=container.streams.video[0].frames)\n",
    "    video = read_video_pyav(container, indices)\n",
    "\n",
    "    # Load image processor and model\n",
    "    image_processor = AutoImageProcessor.from_pretrained(\"MCG-NJU/videomae-base\")\n",
    "    model = VideoMAEModel.from_pretrained(\"MCG-NJU/videomae-base\")\n",
    "    model.to(device)\n",
    "\n",
    "    # Process the video frames\n",
    "    inputs = image_processor(list(video), return_tensors=\"pt\")\n",
    "    inputs = inputs.to(device)\n",
    "\n",
    "    with torch.no_grad():\n",
    "        outputs = model(**inputs)\n",
    "        last_hidden_states = outputs.last_hidden_state\n",
    "\n",
    "    # Extract features (mean pooling) and move to CPU\n",
    "    #features = last_hidden_states.mean(dim=1).squeeze().to(\"cpu\").numpy()\n",
    "    features = last_hidden_states.to(\"cpu\").numpy()\n",
    "    return features\n",
    "\n",
    "# Function to preprocess embeddings if necessary\n",
    "# def preprocess_embeddings(embeddings):\n",
    "# Add preprocessing steps here if needed\n",
    "# return embeddings\n",
    "\n",
    "# Function to make predictions\n",
    "def make_predictions(audio_embeddings, video_embeddings):\n",
    "    # Move tensors to the desired device\n",
    "    audio_embeddings = torch.tensor(audio_embeddings).to(device)\n",
    "    video_embeddings = torch.tensor(video_embeddings).to(device)\n",
    "\n",
    "    # Move tensors to CPU before passing to TensorFlow model\n",
    "    audio_embeddings_cpu = audio_embeddings.cpu()\n",
    "    video_embeddings_cpu = video_embeddings.cpu()\n",
    "    \n",
    "    # Make predictions\n",
    "    with torch.no_grad():\n",
    "        predictions = loaded_model((audio_embeddings_cpu, video_embeddings_cpu))\n",
    "    return predictions\n",
    "\n",
    "\n",
    "# Function to plot predicted probabilities inside the specified frame\n",
    "def plot_predictions_tk(root):\n",
    "    try:\n",
    "        # Retrieve global predictions\n",
    "        predictions = global_predictions\n",
    "\n",
    "        # Calculate color intensity based on probability values\n",
    "        color_intensity = predictions[0] / np.max(predictions[0])\n",
    "\n",
    "        # Create a figure and a subplot\n",
    "        fig, ax = plt.subplots(figsize=(8, 6))\n",
    "        classes = ['Humor', 'Non-Humor']\n",
    "        bars = ax.bar(classes, predictions[0], color=plt.cm.RdYlBu(color_intensity))\n",
    "\n",
    "        # Customize the bar graph styling\n",
    "        for i, bar in enumerate(bars):\n",
    "            # Change the edge color of the bars\n",
    "            bar.set_edgecolor('black')\n",
    "            # Change the line width of the bars\n",
    "            bar.set_linewidth(2)\n",
    "            # Change the opacity of the bars\n",
    "            bar.set_alpha(0.7)\n",
    "\n",
    "        ax.set_ylabel('Probability')\n",
    "        ax.set_title('Predicted Probabilities for Humor Detection')\n",
    "\n",
    "        \n",
    "\n",
    "        # Embed the plot in the Tkinter window\n",
    "        canvas = FigureCanvasTkAgg(fig, master=root)\n",
    "        canvas.draw()\n",
    "        canvas.get_tk_widget().pack(side=tk.TOP, fill=tk.BOTH, expand=1)\n",
    "\n",
    "    except Exception as e:\n",
    "        print(\"Error plotting predictions:\", e)\n",
    "\n",
    "\n",
    "# Define the display_video function\n",
    "# Function to display video in the Tkinter window\n",
    "# Function to display video in the Tkinter window\n",
    "def display_video(video_path, root):\n",
    "    try:\n",
    "        # Destroy any existing video frame and graph frame\n",
    "        for widget in root.winfo_children():\n",
    "            if isinstance(widget, tk.Frame) and widget.winfo_name() == \"video_frame\":\n",
    "                widget.destroy()\n",
    "            elif isinstance(widget, tk.Frame) and widget.winfo_name() == \"graph_frame\":\n",
    "                widget.destroy()\n",
    "\n",
    "        # Create a frame for the video player\n",
    "        video_frame = tk.Frame(root, bg=\"black\", name=\"video_frame\", width=640, height=480)\n",
    "        video_frame.pack(pady=20)\n",
    "\n",
    "        # Load the video clip\n",
    "        video_clip = VideoFileClip(video_path)\n",
    "\n",
    "        # Define the width and height of the video player\n",
    "        player_width = 480\n",
    "        player_height = 360\n",
    "\n",
    "        # Calculate the aspect ratio of the video\n",
    "        aspect_ratio = video_clip.size[0] / video_clip.size[1]\n",
    "\n",
    "        # Calculate the height of the video player based on the width and aspect ratio\n",
    "        player_height = int(player_width / aspect_ratio)\n",
    "\n",
    "        # Create a label for the video player\n",
    "        video_player = tk.Label(video_frame)\n",
    "        video_player.pack()\n",
    "\n",
    "        # Function to update video frames\n",
    "        def update_video_frame(frame_num):\n",
    "            # Get the current frame\n",
    "            frame = video_clip.get_frame(frame_num / video_clip.fps)\n",
    "            frame = Image.fromarray(frame)\n",
    "        \n",
    "            # Resize the frame to fit the video player dimensions\n",
    "            frame = frame.resize((player_width, player_height), Image.Resampling.LANCZOS)\n",
    "        \n",
    "            # Convert the frame to a format compatible with PhotoImage\n",
    "            frame_tk = ImageTk.PhotoImage(frame)\n",
    "        \n",
    "            # Update the video player label with the new frame image\n",
    "            video_player.config(image=frame_tk)\n",
    "            video_player.image = frame_tk\n",
    "        \n",
    "            # Calculate the delay for the next frame update (in milliseconds)\n",
    "            delay = int(1000 / video_clip.fps)\n",
    "        \n",
    "            # Schedule the next frame update\n",
    "            frame_num += 1\n",
    "            if frame_num < video_clip.fps * video_clip.duration:\n",
    "                video_player.after(delay, update_video_frame, frame_num)\n",
    "\n",
    "\n",
    "        # Start updating video frames\n",
    "        update_video_frame(0)\n",
    "\n",
    "        # Create a frame for the graph\n",
    "        graph_frame = tk.Frame(root, bg=\"#64b6f7\", name=\"graph_frame\", width=640, height=200)\n",
    "        graph_frame.pack(pady=20)\n",
    "\n",
    "        # Plot the predicted probabilities inside the graph frame\n",
    "        plot_predictions_tk(graph_frame)\n",
    "\n",
    "    except Exception as e:\n",
    "        print(\"Error displaying video:\", e)\n",
    "\n",
    "\n",
    "\n",
    "# Function to handle file selection\n",
    "def select_files():\n",
    "    \n",
    "    global global_predictions\n",
    "    \n",
    "    # Open file dialog to select video file\n",
    "    video_path = filedialog.askopenfilename(title=\"Select Video File\")\n",
    "    if video_path:\n",
    "        \n",
    "        # Extract audio from video\n",
    "        video_clip = VideoFileClip(video_path)\n",
    "        audio_path = \"D:\\ML Projects\\extracted_audio.wav\"\n",
    "        video_clip.audio.write_audiofile(audio_path)\n",
    "\n",
    "        # Get audio embeddings\n",
    "        audio_embeddings = get_embeddings_audio(audio_path)\n",
    "        # Preprocess audio embeddings if necessary\n",
    "        # audio_embeddings = preprocess_embeddings(audio_embeddings)\n",
    "\n",
    "        print(\"Audio Embedding: \", audio_embeddings)\n",
    "        print(\"Audio Embedding Shape:\", audio_embeddings.shape)\n",
    "\n",
    "        # Get video embeddings\n",
    "        video_embeddings = get_embeddings_video(video_path, device)\n",
    "        # Preprocess video embeddings if necessary\n",
    "        # video_embeddings = preprocess_embeddings(video_embeddings)\n",
    "\n",
    "        print(\"Video Embedding: \", video_embeddings)\n",
    "        print(\"Video Embedding Shape: \", video_embeddings.shape)\n",
    "\n",
    "        # Make predictions\n",
    "        global_predictions = make_predictions(audio_embeddings, video_embeddings)\n",
    "        #print(type(predictions))\n",
    "        # Plot predicted probabilities inside Tkinter window\n",
    "        #plot_predictions_tk(predictions)\n",
    "        \n",
    "        # Display video in the Tkinter window\n",
    "        display_video(video_path, root)\n",
    "        # Run the Tkinter main loop\n",
    "        \n",
    "        root.mainloop()\n",
    "\n",
    "# Set device\n",
    "#device = torch.device(\"cuda:0\" if torch.cuda.is_available() else \"cpu\")\n",
    "    \n",
    "# Create the main application window\n",
    "root = tk.Tk()\n",
    "root.title(\"😄 Audio-Visual Humor Detection App 😄\")\n",
    "root.geometry(\"800x900\")\n",
    "root.configure(bg=\"#aad2f2\")\n",
    "\n",
    "\n",
    "font_path = \"/home/orchid/Downloads/comic-sans/COMICSANSBOLD.TTF\"\n",
    "\n",
    "# Create a Font object with the desired font style\n",
    "custom_font = font.Font(family=\"FontName\", size=14, weight=\"bold\", slant=\"italic\")\n",
    "\n",
    "# Create a frame for the buttons\n",
    "button_frame = tk.Frame(root, bg=\"#aad2f2\")\n",
    "button_frame.pack(pady=20)\n",
    "\n",
    "# Create a button to select files\n",
    "select_button = tk.Button(button_frame, text=\"Select Video File\", command=select_files, font=custom_font)\n",
    "select_button.pack(side=tk.LEFT, padx=10)\n",
    "\n",
    "predict_button = tk.Button(root, text=\"Predict\", command=plot_predictions_tk, font=custom_font)\n",
    "predict_button.pack(pady=20)\n",
    "    \n",
    "# Run the application\n",
    "root.mainloop()\n"
   ]
  },
  {
   "cell_type": "code",
   "execution_count": 3,
   "id": "45a6e2d4-0297-45d7-9837-4879a561d51f",
   "metadata": {},
   "outputs": [
    {
     "name": "stdout",
     "output_type": "stream",
     "text": [
      "Name: torch\n",
      "Version: 2.3.0\n",
      "Summary: Tensors and Dynamic neural networks in Python with strong GPU acceleration\n",
      "Home-page: https://pytorch.org/\n",
      "Author: PyTorch Team\n",
      "Author-email: packages@pytorch.org\n",
      "License: BSD-3\n",
      "Location: /home/orchid/anaconda3/envs/tf_gpu/lib/python3.9/site-packages\n",
      "Requires: filelock, fsspec, jinja2, networkx, nvidia-cublas-cu12, nvidia-cuda-cupti-cu12, nvidia-cuda-nvrtc-cu12, nvidia-cuda-runtime-cu12, nvidia-cudnn-cu12, nvidia-cufft-cu12, nvidia-curand-cu12, nvidia-cusolver-cu12, nvidia-cusparse-cu12, nvidia-nccl-cu12, nvidia-nvtx-cu12, sympy, triton, typing-extensions\n",
      "Required-by: speechbrain, torchaudio, torchvision\n",
      "---\n",
      "Name: torchaudio\n",
      "Version: 2.3.0\n",
      "Summary: An audio package for PyTorch\n",
      "Home-page: https://github.com/pytorch/audio\n",
      "Author: Soumith Chintala, David Pollack, Sean Naren, Peter Goldsborough, Moto Hira, Caroline Chen, Jeff Hwang, Zhaoheng Ni, Xiaohui Zhang\n",
      "Author-email: soumith@pytorch.org\n",
      "License: \n",
      "Location: /home/orchid/anaconda3/envs/tf_gpu/lib/python3.9/site-packages\n",
      "Requires: torch\n",
      "Required-by: speechbrain\n",
      "Note: you may need to restart the kernel to use updated packages.\n"
     ]
    }
   ],
   "source": [
    "pip show torch torchaudio\n"
   ]
  },
  {
   "cell_type": "code",
   "execution_count": 4,
   "id": "acef7b9e-4ed0-4395-bd34-a074819f7fb1",
   "metadata": {},
   "outputs": [
    {
     "name": "stdout",
     "output_type": "stream",
     "text": [
      "\n",
      "CondaError: Run 'conda init' before 'conda activate'\n",
      "\n",
      "\n",
      "Note: you may need to restart the kernel to use updated packages.\n"
     ]
    }
   ],
   "source": [
    "conda activate ."
   ]
  },
  {
   "cell_type": "code",
   "execution_count": 6,
   "id": "03db6131-9dc3-41a9-bc5b-de2aa1654786",
   "metadata": {},
   "outputs": [
    {
     "name": "stdout",
     "output_type": "stream",
     "text": [
      "Collecting torchaudio==2.2.0\n",
      "  Downloading torchaudio-2.2.0-cp39-cp39-manylinux1_x86_64.whl (3.3 MB)\n",
      "\u001b[2K     \u001b[38;2;114;156;31m━━━━━━━━━━━━━━━━━━━━━━━━━━━━━━━━━━━━━━━━\u001b[0m \u001b[32m3.3/3.3 MB\u001b[0m \u001b[31m5.7 MB/s\u001b[0m eta \u001b[36m0:00:00\u001b[0m[31m5.8 MB/s\u001b[0m eta \u001b[36m0:00:01\u001b[0m\n",
      "\u001b[?25hCollecting torch==2.2.0\n",
      "  Downloading torch-2.2.0-cp39-cp39-manylinux1_x86_64.whl (755.5 MB)\n",
      "\u001b[2K     \u001b[38;2;114;156;31m━━━━━━━━━━━━━━━━━━━━━━━━━━━━━━━━━━━━━━━\u001b[0m \u001b[32m755.5/755.5 MB\u001b[0m \u001b[31m3.0 MB/s\u001b[0m eta \u001b[36m0:00:00\u001b[0mm eta \u001b[36m0:00:01\u001b[0m[36m0:00:01\u001b[0m\n",
      "\u001b[?25hRequirement already satisfied: nvidia-cufft-cu12==11.0.2.54 in /home/orchid/anaconda3/envs/tf_gpu/lib/python3.9/site-packages (from torch==2.2.0->torchaudio==2.2.0) (11.0.2.54)\n",
      "Requirement already satisfied: typing-extensions>=4.8.0 in /home/orchid/anaconda3/envs/tf_gpu/lib/python3.9/site-packages (from torch==2.2.0->torchaudio==2.2.0) (4.11.0)\n",
      "Collecting triton==2.2.0\n",
      "  Downloading triton-2.2.0-cp39-cp39-manylinux_2_17_x86_64.manylinux2014_x86_64.whl (167.9 MB)\n",
      "\u001b[2K     \u001b[38;2;114;156;31m━━━━━━━━━━━━━━━━━━━━━━━━━━━━━━━━━━━━━━\u001b[0m \u001b[32m167.9/167.9 MB\u001b[0m \u001b[31m10.4 MB/s\u001b[0m eta \u001b[36m0:00:00\u001b[0mm eta \u001b[36m0:00:01\u001b[0m0:01\u001b[0m:01\u001b[0m\n",
      "\u001b[?25hRequirement already satisfied: networkx in /home/orchid/anaconda3/envs/tf_gpu/lib/python3.9/site-packages (from torch==2.2.0->torchaudio==2.2.0) (3.2.1)\n",
      "Requirement already satisfied: fsspec in /home/orchid/anaconda3/envs/tf_gpu/lib/python3.9/site-packages (from torch==2.2.0->torchaudio==2.2.0) (2024.3.1)\n",
      "Requirement already satisfied: nvidia-cuda-cupti-cu12==12.1.105 in /home/orchid/anaconda3/envs/tf_gpu/lib/python3.9/site-packages (from torch==2.2.0->torchaudio==2.2.0) (12.1.105)\n",
      "Requirement already satisfied: filelock in /home/orchid/anaconda3/envs/tf_gpu/lib/python3.9/site-packages (from torch==2.2.0->torchaudio==2.2.0) (3.13.4)\n",
      "Requirement already satisfied: nvidia-nvtx-cu12==12.1.105 in /home/orchid/anaconda3/envs/tf_gpu/lib/python3.9/site-packages (from torch==2.2.0->torchaudio==2.2.0) (12.1.105)\n",
      "Requirement already satisfied: nvidia-cuda-nvrtc-cu12==12.1.105 in /home/orchid/anaconda3/envs/tf_gpu/lib/python3.9/site-packages (from torch==2.2.0->torchaudio==2.2.0) (12.1.105)\n",
      "Requirement already satisfied: nvidia-cusparse-cu12==12.1.0.106 in /home/orchid/anaconda3/envs/tf_gpu/lib/python3.9/site-packages (from torch==2.2.0->torchaudio==2.2.0) (12.1.0.106)\n",
      "Requirement already satisfied: nvidia-cusolver-cu12==11.4.5.107 in /home/orchid/anaconda3/envs/tf_gpu/lib/python3.9/site-packages (from torch==2.2.0->torchaudio==2.2.0) (11.4.5.107)\n",
      "Requirement already satisfied: sympy in /home/orchid/anaconda3/envs/tf_gpu/lib/python3.9/site-packages (from torch==2.2.0->torchaudio==2.2.0) (1.12)\n",
      "Collecting nvidia-nccl-cu12==2.19.3\n",
      "  Using cached nvidia_nccl_cu12-2.19.3-py3-none-manylinux1_x86_64.whl (166.0 MB)\n",
      "Requirement already satisfied: nvidia-cudnn-cu12==8.9.2.26 in /home/orchid/anaconda3/envs/tf_gpu/lib/python3.9/site-packages (from torch==2.2.0->torchaudio==2.2.0) (8.9.2.26)\n",
      "Requirement already satisfied: jinja2 in /home/orchid/anaconda3/envs/tf_gpu/lib/python3.9/site-packages (from torch==2.2.0->torchaudio==2.2.0) (3.1.3)\n",
      "Requirement already satisfied: nvidia-curand-cu12==10.3.2.106 in /home/orchid/anaconda3/envs/tf_gpu/lib/python3.9/site-packages (from torch==2.2.0->torchaudio==2.2.0) (10.3.2.106)\n",
      "Requirement already satisfied: nvidia-cuda-runtime-cu12==12.1.105 in /home/orchid/anaconda3/envs/tf_gpu/lib/python3.9/site-packages (from torch==2.2.0->torchaudio==2.2.0) (12.1.105)\n",
      "Requirement already satisfied: nvidia-cublas-cu12==12.1.3.1 in /home/orchid/anaconda3/envs/tf_gpu/lib/python3.9/site-packages (from torch==2.2.0->torchaudio==2.2.0) (12.1.3.1)\n",
      "Requirement already satisfied: nvidia-nvjitlink-cu12 in /home/orchid/anaconda3/envs/tf_gpu/lib/python3.9/site-packages (from nvidia-cusolver-cu12==11.4.5.107->torch==2.2.0->torchaudio==2.2.0) (12.3.101)\n",
      "Requirement already satisfied: MarkupSafe>=2.0 in /home/orchid/anaconda3/envs/tf_gpu/lib/python3.9/site-packages (from jinja2->torch==2.2.0->torchaudio==2.2.0) (2.1.5)\n",
      "Requirement already satisfied: mpmath>=0.19 in /home/orchid/anaconda3/envs/tf_gpu/lib/python3.9/site-packages (from sympy->torch==2.2.0->torchaudio==2.2.0) (1.3.0)\n",
      "Installing collected packages: triton, nvidia-nccl-cu12, torch, torchaudio\n",
      "  Attempting uninstall: triton\n",
      "    Found existing installation: triton 2.3.0\n",
      "    Uninstalling triton-2.3.0:\n",
      "      Successfully uninstalled triton-2.3.0\n",
      "  Attempting uninstall: nvidia-nccl-cu12\n",
      "    Found existing installation: nvidia-nccl-cu12 2.20.5\n",
      "    Uninstalling nvidia-nccl-cu12-2.20.5:\n",
      "      Successfully uninstalled nvidia-nccl-cu12-2.20.5\n",
      "  Attempting uninstall: torch\n",
      "    Found existing installation: torch 2.3.0\n",
      "    Uninstalling torch-2.3.0:\n",
      "      Successfully uninstalled torch-2.3.0\n",
      "  Attempting uninstall: torchaudio\n",
      "    Found existing installation: torchaudio 2.3.0\n",
      "    Uninstalling torchaudio-2.3.0:\n",
      "      Successfully uninstalled torchaudio-2.3.0\n",
      "Successfully installed nvidia-nccl-cu12-2.19.3 torch-2.2.0 torchaudio-2.2.0 triton-2.2.0\n",
      "\u001b[33mWARNING: There was an error checking the latest version of pip.\u001b[0m\u001b[33m\n",
      "\u001b[0mNote: you may need to restart the kernel to use updated packages.\n"
     ]
    }
   ],
   "source": [
    "pip install torchaudio==2.2.0\n"
   ]
  },
  {
   "cell_type": "code",
   "execution_count": 3,
   "id": "de5688b0-e149-484e-bcc7-aee34abf9807",
   "metadata": {},
   "outputs": [
    {
     "name": "stdout",
     "output_type": "stream",
     "text": [
      "Requirement already satisfied: av in /home/orchid/anaconda3/envs/tf_gpu/lib/python3.9/site-packages (12.1.0)\n",
      "\u001b[33mWARNING: There was an error checking the latest version of pip.\u001b[0m\u001b[33m\n",
      "\u001b[0mNote: you may need to restart the kernel to use updated packages.\n"
     ]
    }
   ],
   "source": [
    "pip install av"
   ]
  },
  {
   "cell_type": "markdown",
   "id": "bef2ad75-9a52-40c0-b8ea-0e71cc44727f",
   "metadata": {},
   "source": [
    "------------------------------------------------------------------------------------------------------------------------------------"
   ]
  },
  {
   "cell_type": "code",
   "execution_count": 6,
   "id": "760e4210-89ee-4ea6-a33f-64317c9f50cc",
   "metadata": {},
   "outputs": [
    {
     "name": "stdout",
     "output_type": "stream",
     "text": [
      "MoviePy - Writing audio in D:\\ML Projects\\extracted_audio.wav\n"
     ]
    },
    {
     "name": "stderr",
     "output_type": "stream",
     "text": [
      "                                                                                                                                                           \r"
     ]
    },
    {
     "name": "stdout",
     "output_type": "stream",
     "text": [
      "MoviePy - Done.\n",
      "Audio Embedding:  [[[-0.80248487  1.1352621  -2.147833   ... -0.29702353 -1.6939312\n",
      "   -0.9103385 ]\n",
      "  [-0.17642474  1.3793617  -2.534024   ... -0.13638361 -1.9629129\n",
      "   -0.24068466]\n",
      "  [ 1.2526329   0.39374483  1.5560343  ... -0.2307866   1.0371034\n",
      "    0.572249  ]\n",
      "  ...\n",
      "  [ 1.2963486  -0.46350488 -0.9144776  ... -0.48893672 -0.12671973\n",
      "    0.6623136 ]\n",
      "  [ 1.177041   -0.72105926 -0.5434967  ... -1.3205117   0.86278594\n",
      "    0.32437947]\n",
      "  [ 0.38499838 -1.1387063   1.306373   ... -1.1604868  -0.5467357\n",
      "    0.8048364 ]]]\n",
      "Audio Embedding Shape: (1, 1214, 768)\n"
     ]
    },
    {
     "name": "stderr",
     "output_type": "stream",
     "text": [
      "Could not find image processor class in the image processor config or the model config. Loading based on pattern matching with the model's feature extractor configuration. Please open a PR/issue to update `preprocessor_config.json` to use `image_processor_type` instead of `feature_extractor_type`. This warning will be removed in v4.40.\n"
     ]
    },
    {
     "name": "stdout",
     "output_type": "stream",
     "text": [
      "Video Embedding:  [[[ 0.04243786 -0.19533424  0.11414342 ...  0.57641256  0.3108435\n",
      "   -0.09121644]\n",
      "  [-0.37865394 -0.21383259 -0.13900143 ...  0.31971702  0.21590193\n",
      "   -0.11469041]\n",
      "  [-0.97484505 -0.20145309 -0.04532044 ...  0.21431695  0.01425151\n",
      "   -0.1550493 ]\n",
      "  ...\n",
      "  [ 0.18388176 -0.2466343  -0.09750644 ... -0.20355046  0.0487081\n",
      "   -0.09649885]\n",
      "  [ 0.9518313   0.05912675  0.02098876 ...  0.11576055  0.1647409\n",
      "   -0.01283726]\n",
      "  [ 0.95388824 -0.08444376  0.20056887 ... -0.19318655 -0.14830513\n",
      "   -0.31138426]]]\n",
      "Video Embedding Shape:  (1, 1568, 768)\n"
     ]
    },
    {
     "name": "stderr",
     "output_type": "stream",
     "text": [
      "Exception in Tkinter callback\n",
      "Traceback (most recent call last):\n",
      "  File \"C:\\Users\\shubh\\miniconda3\\envs\\tf\\lib\\tkinter\\__init__.py\", line 1921, in __call__\n",
      "    return self.func(*args)\n",
      "  File \"C:\\Users\\shubh\\AppData\\Local\\Temp\\ipykernel_7272\\1960496907.py\", line 246, in select_files\n",
      "    global_predictions = make_predictions(audio_embeddings, video_embeddings)\n",
      "  File \"C:\\Users\\shubh\\AppData\\Local\\Temp\\ipykernel_7272\\1960496907.py\", line 125, in make_predictions\n",
      "    predictions = loaded_model((audio_embeddings_cpu, video_embeddings_cpu))\n",
      "NameError: name 'loaded_model' is not defined\n"
     ]
    }
   ],
   "source": [
    "import tkinter as tk\n",
    "from tkinter import filedialog\n",
    "import numpy as np\n",
    "import matplotlib.pyplot as plt\n",
    "from matplotlib.backends.backend_tkagg import FigureCanvasTkAgg\n",
    "import torch\n",
    "import torchaudio\n",
    "from moviepy.editor import VideoFileClip\n",
    "from PIL import Image, ImageTk\n",
    "from tkinter import font\n",
    "from transformers import VideoMAEImageProcessor, VideoMAEModel, ASTFeatureExtractor, ASTModel, AutoImageProcessor\n",
    "import av\n",
    "import pandas as pd\n",
    "\n",
    "global_predictions = None\n",
    "\n",
    "# Set device to CPU\n",
    "device = torch.device(\"cpu\")\n",
    "\n",
    "# Define the audio processor and model\n",
    "audio_processor = ASTFeatureExtractor()\n",
    "audio_model = ASTModel.from_pretrained(\"MIT/ast-finetuned-audioset-10-10-0.4593\").to(device)\n",
    "\n",
    "# Function to get embeddings from audio files\n",
    "def get_embeddings_audio(file):\n",
    "    # Load stereo audio\n",
    "    stereo_audio, sample_rate = torchaudio.load(file)\n",
    "    \n",
    "    # Convert stereo to mono\n",
    "    mono_audio = stereo_audio.mean(dim=0)\n",
    "    \n",
    "    # Resample to 16 kHz\n",
    "    resample = torchaudio.transforms.Resample(orig_freq=sample_rate, new_freq=16000)\n",
    "    mono_audio_16khz = resample(mono_audio)\n",
    "\n",
    "    inputs = audio_processor(mono_audio_16khz, sampling_rate=16000, return_tensors=\"pt\").to(device)\n",
    "    \n",
    "    with torch.no_grad():\n",
    "        outputs = audio_model(**inputs)\n",
    "    \n",
    "    last_hidden_states = outputs.last_hidden_state \n",
    "    features_audio = last_hidden_states.cpu().numpy()\n",
    "    \n",
    "    return features_audio\n",
    "\n",
    "def read_video_pyav(container, indices):\n",
    "    '''\n",
    "    Decode the video with PyAV decoder.\n",
    "    Args:\n",
    "        container (`av.container.input.InputContainer`): PyAV container.\n",
    "        indices (`List[int]`): List of frame indices to decode.\n",
    "    Returns:\n",
    "        result (np.ndarray): np array of decoded frames of shape (num_frames, height, width, 3).\n",
    "    '''\n",
    "    frames = []\n",
    "    container.seek(0)\n",
    "    start_index = indices[0]\n",
    "    end_index = indices[-1]\n",
    "    for i, frame in enumerate(container.decode(video=0)):\n",
    "        if i > end_index:\n",
    "            break\n",
    "        if i >= start_index and i in indices:\n",
    "            frames.append(frame)\n",
    "    return np.stack([x.to_ndarray(format=\"rgb24\") for x in frames])\n",
    "\n",
    "def sample_frame_indices(clip_len, frame_sample_rate, seg_len):\n",
    "    '''\n",
    "    Sample a given number of frame indices from the video.\n",
    "    Args:\n",
    "        clip_len (`int`): Total number of frames to sample.\n",
    "        frame_sample_rate (`int`): Sample every n-th frame.\n",
    "        seg_len (`int`): Maximum allowed index of sample's last frame.\n",
    "    Returns:\n",
    "        indices (`List[int]`): List of sampled frame indices\n",
    "    '''\n",
    "    converted_len = int(clip_len * frame_sample_rate)\n",
    "    end_idx = np.random.randint(converted_len, seg_len)\n",
    "    start_idx = end_idx - converted_len\n",
    "    indices = np.linspace(start_idx, end_idx, num=clip_len)\n",
    "    indices = np.clip(indices, start_idx, end_idx - 1).astype(np.int64)\n",
    "    return indices\n",
    "\n",
    "# Function to get embeddings from video files\n",
    "def get_embeddings_video(file, device):\n",
    "    container = av.open(file)\n",
    "    \n",
    "    # Sample 16 frames\n",
    "    indices = sample_frame_indices(clip_len=16, frame_sample_rate=1, seg_len=container.streams.video[0].frames)\n",
    "    video = read_video_pyav(container, indices)\n",
    "\n",
    "    # Load image processor and model\n",
    "    image_processor = AutoImageProcessor.from_pretrained(\"MCG-NJU/videomae-base\")\n",
    "    model = VideoMAEModel.from_pretrained(\"MCG-NJU/videomae-base\")\n",
    "    model.to(device)\n",
    "\n",
    "    # Process the video frames\n",
    "    inputs = image_processor(list(video), return_tensors=\"pt\")\n",
    "    inputs = inputs.to(device)\n",
    "\n",
    "    with torch.no_grad():\n",
    "        outputs = model(**inputs)\n",
    "        last_hidden_states = outputs.last_hidden_state\n",
    "\n",
    "    # Extract features and move to CPU\n",
    "    features = last_hidden_states.to(\"cpu\").numpy()\n",
    "    return features\n",
    "\n",
    "# Function to preprocess embeddings if necessary\n",
    "# def preprocess_embeddings(embeddings):\n",
    "# Add preprocessing steps here if needed\n",
    "# return embeddings\n",
    "\n",
    "# Function to make predictions\n",
    "def make_predictions(audio_embeddings, video_embeddings):\n",
    "    # Move tensors to the desired device\n",
    "    audio_embeddings = torch.tensor(audio_embeddings).to(device)\n",
    "    video_embeddings = torch.tensor(video_embeddings).to(device)\n",
    "\n",
    "    # Move tensors to CPU before passing to TensorFlow model\n",
    "    audio_embeddings_cpu = audio_embeddings.cpu()\n",
    "    video_embeddings_cpu = video_embeddings.cpu()\n",
    "    \n",
    "    # Make predictions\n",
    "    with torch.no_grad():\n",
    "        predictions = loaded_model((audio_embeddings_cpu, video_embeddings_cpu))\n",
    "    return predictions\n",
    "\n",
    "# Function to plot predicted probabilities inside the specified frame\n",
    "def plot_predictions_tk(root):\n",
    "    try:\n",
    "        # Retrieve global predictions\n",
    "        predictions = global_predictions\n",
    "\n",
    "        # Calculate color intensity based on probability values\n",
    "        color_intensity = predictions[0] / np.max(predictions[0])\n",
    "\n",
    "        # Create a figure and a subplot\n",
    "        fig, ax = plt.subplots(figsize=(8, 6))\n",
    "        classes = ['Humor', 'Non-Humor']\n",
    "        bars = ax.bar(classes, predictions[0], color=plt.cm.RdYlBu(color_intensity))\n",
    "\n",
    "        # Customize the bar graph styling\n",
    "        for i, bar in enumerate(bars):\n",
    "            bar.set_edgecolor('black')\n",
    "            bar.set_linewidth(2)\n",
    "            bar.set_alpha(0.7)\n",
    "\n",
    "        ax.set_ylabel('Probability')\n",
    "        ax.set_title('Predicted Probabilities for Humor Detection')\n",
    "\n",
    "        # Embed the plot in the Tkinter window\n",
    "        canvas = FigureCanvasTkAgg(fig, master=root)\n",
    "        canvas.draw()\n",
    "        canvas.get_tk_widget().pack(side=tk.TOP, fill=tk.BOTH, expand=1)\n",
    "\n",
    "    except Exception as e:\n",
    "        print(\"Error plotting predictions:\", e)\n",
    "\n",
    "# Define the display_video function\n",
    "def display_video(video_path, root):\n",
    "    try:\n",
    "        # Destroy any existing video frame and graph frame\n",
    "        for widget in root.winfo_children():\n",
    "            if isinstance(widget, tk.Frame) and widget.winfo_name() == \"video_frame\":\n",
    "                widget.destroy()\n",
    "            elif isinstance(widget, tk.Frame) and widget.winfo_name() == \"graph_frame\":\n",
    "                widget.destroy()\n",
    "\n",
    "        # Create a frame for the video player\n",
    "        video_frame = tk.Frame(root, bg=\"black\", name=\"video_frame\", width=640, height=480)\n",
    "        video_frame.pack(pady=20)\n",
    "\n",
    "        # Load the video clip\n",
    "        video_clip = VideoFileClip(video_path)\n",
    "\n",
    "        # Define the width and height of the video player\n",
    "        player_width = 480\n",
    "        player_height = 360\n",
    "\n",
    "        # Calculate the aspect ratio of the video\n",
    "        aspect_ratio = video_clip.size[0] / video_clip.size[1]\n",
    "\n",
    "        # Calculate the height of the video player based on the width and aspect ratio\n",
    "        player_height = int(player_width / aspect_ratio)\n",
    "\n",
    "        # Create a label for the video player\n",
    "        video_player = tk.Label(video_frame)\n",
    "        video_player.pack()\n",
    "\n",
    "        # Function to update video frames\n",
    "        def update_video_frame(frame_num):\n",
    "            frame = video_clip.get_frame(frame_num)\n",
    "            frame = Image.fromarray(frame)\n",
    "\n",
    "            # Resize the frame to fit the video player dimensions\n",
    "            frame = frame.resize((player_width, player_height), Image.Resampling.LANCZOS)\n",
    "\n",
    "            # Convert the frame to a format compatible with PhotoImage\n",
    "            frame_tk = ImageTk.PhotoImage(frame)\n",
    "\n",
    "            # Update the video player label with the new frame image\n",
    "            video_player.config(image=frame_tk)\n",
    "            video_player.image = frame_tk\n",
    "\n",
    "            frame_num += 1\n",
    "            if frame_num < video_clip.fps * video_clip.duration:\n",
    "                video_player.after(int(1000 / video_clip.fps), update_video_frame, frame_num)\n",
    "\n",
    "        # Start updating video frames\n",
    "        update_video_frame(0)\n",
    "\n",
    "        # Create a frame for the graph\n",
    "        graph_frame = tk.Frame(root, bg=\"#64b6f7\", name=\"graph_frame\", width=640, height=200)\n",
    "        graph_frame.pack(pady=20)\n",
    "\n",
    "        # Plot the predicted probabilities inside the graph frame\n",
    "        plot_predictions_tk(graph_frame)\n",
    "\n",
    "    except Exception as e:\n",
    "        print(\"Error displaying video:\", e)\n",
    "\n",
    "# Function to handle file selection\n",
    "def select_files():\n",
    "    global global_predictions\n",
    "    \n",
    "    # Open file dialog to select video file\n",
    "    video_path = filedialog.askopenfilename(title=\"Select Video File\")\n",
    "    if video_path:\n",
    "        \n",
    "        # Extract audio from video\n",
    "        video_clip = VideoFileClip(video_path)\n",
    "        audio_path = \"D:\\ML Projects\\extracted_audio.wav\"\n",
    "        video_clip.audio.write_audiofile(audio_path)\n",
    "\n",
    "        # Get audio embeddings\n",
    "        audio_embeddings = get_embeddings_audio(audio_path)\n",
    "        print(\"Audio Embedding: \", audio_embeddings)\n",
    "        print(\"Audio Embedding Shape:\", audio_embeddings.shape)\n",
    "\n",
    "        # Get video embeddings\n",
    "        video_embeddings = get_embeddings_video(video_path, device)\n",
    "        print(\"Video Embedding: \", video_embeddings)\n",
    "        print(\"Video Embedding Shape: \", video_embeddings.shape)\n",
    "\n",
    "        # Make predictions\n",
    "        global_predictions = make_predictions(audio_embeddings, video_embeddings)\n",
    "        \n",
    "        # Display video in the Tkinter window\n",
    "        display_video(video_path, root)\n",
    "        # Run the Tkinter main loop\n",
    "        root.mainloop()\n",
    "\n",
    "# Create the main application window\n",
    "root = tk.Tk()\n",
    "root.title(\"😄 Audio-Visual Humor Detection App 😄\")\n",
    "root.geometry(\"800x900\")\n",
    "root.configure(bg=\"#aad2f2\")\n",
    "\n",
    "# Set custom font\n",
    "custom_font = font.Font(family=\"FontName\", size=14, weight=\"bold\", slant=\"italic\")\n",
    "\n",
    "# Create a frame for the buttons\n",
    "button_frame = tk.Frame(root, bg=\"#aad2f2\")\n",
    "button_frame.pack(pady=20)\n",
    "\n",
    "# Create a button to select files\n",
    "select_button = tk.Button(button_frame, text=\"Select Video File\", command=select_files, font=custom_font)\n",
    "select_button.pack(side=tk.LEFT, padx=10)\n",
    "\n",
    "# Create a button to plot predictions\n",
    "predict_button = tk.Button(root, text=\"Predict\", command=plot_predictions_tk, font=custom_font)\n",
    "predict_button.pack(pady=20)\n",
    "\n",
    "# Run the application\n",
    "root.mainloop()\n"
   ]
  },
  {
   "cell_type": "code",
   "execution_count": null,
   "id": "1d77e2ea-3bd7-48a7-89b5-fcc9640db419",
   "metadata": {},
   "outputs": [],
   "source": []
  }
 ],
 "metadata": {
  "kernelspec": {
   "display_name": "Python 3 (ipykernel)",
   "language": "python",
   "name": "python3"
  },
  "language_info": {
   "codemirror_mode": {
    "name": "ipython",
    "version": 3
   },
   "file_extension": ".py",
   "mimetype": "text/x-python",
   "name": "python",
   "nbconvert_exporter": "python",
   "pygments_lexer": "ipython3",
   "version": "3.10.14"
  }
 },
 "nbformat": 4,
 "nbformat_minor": 5
}
